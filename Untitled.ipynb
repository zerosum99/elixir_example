{
 "cells": [
  {
   "cell_type": "code",
   "execution_count": null,
   "id": "d34ea03c",
   "metadata": {},
   "outputs": [],
   "source": [
    "sum = fn x -> x+2 end\n",
    "sum.(100)"
   ]
  },
  {
   "cell_type": "code",
   "execution_count": null,
   "id": "3b634915",
   "metadata": {},
   "outputs": [],
   "source": []
  }
 ],
 "metadata": {
  "kernelspec": {
   "display_name": "Elixir",
   "language": "Elixir",
   "name": "ielixir"
  }
 },
 "nbformat": 4,
 "nbformat_minor": 5
}
